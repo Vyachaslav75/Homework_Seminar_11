{
 "cells": [
  {
   "cell_type": "code",
   "execution_count": 3,
   "metadata": {},
   "outputs": [],
   "source": [
    "import math\n",
    "from sympy import*\n",
    "from sympy.plotting import plot\n",
    "\n",
    "#уравнение\n",
    "x=symbols('x')\n",
    "fx=-12*x**4 - 18*x**3+5*x**2 + 10*x - 30"
   ]
  },
  {
   "cell_type": "code",
   "execution_count": 11,
   "metadata": {},
   "outputs": [
    {
     "name": "stdout",
     "output_type": "stream",
     "text": [
      "Корни уравнения: \n",
      " -3/8 - sqrt(121/144 + 4885/(2592*(208045/373248 + 5*sqrt(9048041)*I/20736)**(1/3)) + 2*(208045/373248 + 5*sqrt(9048041)*I/20736)**(1/3))/2 - sqrt(121/72 - 2*(208045/373248 + 5*sqrt(9048041)*I/20736)**(1/3) - 19/(96*sqrt(121/144 + 4885/(2592*(208045/373248 + 5*sqrt(9048041)*I/20736)**(1/3)) + 2*(208045/373248 + 5*sqrt(9048041)*I/20736)**(1/3))) - 4885/(2592*(208045/373248 + 5*sqrt(9048041)*I/20736)**(1/3)))/2 \n",
      "\n",
      " -3/8 + sqrt(121/144 + 4885/(2592*(208045/373248 + 5*sqrt(9048041)*I/20736)**(1/3)) + 2*(208045/373248 + 5*sqrt(9048041)*I/20736)**(1/3))/2 - sqrt(121/72 - 2*(208045/373248 + 5*sqrt(9048041)*I/20736)**(1/3) + 19/(96*sqrt(121/144 + 4885/(2592*(208045/373248 + 5*sqrt(9048041)*I/20736)**(1/3)) + 2*(208045/373248 + 5*sqrt(9048041)*I/20736)**(1/3))) - 4885/(2592*(208045/373248 + 5*sqrt(9048041)*I/20736)**(1/3)))/2 \n",
      "\n",
      " -3/8 + sqrt(121/72 - 2*(208045/373248 + 5*sqrt(9048041)*I/20736)**(1/3) - 19/(96*sqrt(121/144 + 4885/(2592*(208045/373248 + 5*sqrt(9048041)*I/20736)**(1/3)) + 2*(208045/373248 + 5*sqrt(9048041)*I/20736)**(1/3))) - 4885/(2592*(208045/373248 + 5*sqrt(9048041)*I/20736)**(1/3)))/2 - sqrt(121/144 + 4885/(2592*(208045/373248 + 5*sqrt(9048041)*I/20736)**(1/3)) + 2*(208045/373248 + 5*sqrt(9048041)*I/20736)**(1/3))/2 \n",
      "\n",
      " -3/8 + sqrt(121/72 - 2*(208045/373248 + 5*sqrt(9048041)*I/20736)**(1/3) + 19/(96*sqrt(121/144 + 4885/(2592*(208045/373248 + 5*sqrt(9048041)*I/20736)**(1/3)) + 2*(208045/373248 + 5*sqrt(9048041)*I/20736)**(1/3))) - 4885/(2592*(208045/373248 + 5*sqrt(9048041)*I/20736)**(1/3)))/2 + sqrt(121/144 + 4885/(2592*(208045/373248 + 5*sqrt(9048041)*I/20736)**(1/3)) + 2*(208045/373248 + 5*sqrt(9048041)*I/20736)**(1/3))/2\n"
     ]
    }
   ],
   "source": [
    "roots=solve(fx)\n",
    "print(f'Корни уравнения: \\n {roots[0]} \\n\\n {roots[1]} \\n\\n {roots[2]} \\n\\n {roots[3]}')"
   ]
  },
  {
   "cell_type": "code",
   "execution_count": 14,
   "metadata": {},
   "outputs": [
    {
     "name": "stdout",
     "output_type": "stream",
     "text": [
      "Интервалы возрастания: ((-oo < x) & (x < CRootOf(24*x**3 + 27*x**2 - 5*x - 5, 0))) | ((x < CRootOf(24*x**3 + 27*x**2 - 5*x - 5, 2)) & (CRootOf(24*x**3 + 27*x**2 - 5*x - 5, 1) < x))\n"
     ]
    }
   ],
   "source": [
    "print(f'Интервалы возрастания: {solve(diff(fx)>0)}')"
   ]
  },
  {
   "cell_type": "code",
   "execution_count": 15,
   "metadata": {},
   "outputs": [
    {
     "name": "stdout",
     "output_type": "stream",
     "text": [
      "Интервалы убывания: ((x < oo) & (CRootOf(24*x**3 + 27*x**2 - 5*x - 5, 2) < x)) | ((x < CRootOf(24*x**3 + 27*x**2 - 5*x - 5, 1)) & (CRootOf(24*x**3 + 27*x**2 - 5*x - 5, 0) < x))\n"
     ]
    }
   ],
   "source": [
    "print(f'Интервалы убывания: {solve(diff(fx)<0)}')"
   ]
  },
  {
   "cell_type": "code",
   "execution_count": 19,
   "metadata": {},
   "outputs": [
    {
     "data": {
      "image/png": "[encoded data removed]",
      "text/plain": [
       "<Figure size 432x288 with 1 Axes>"
      ]
     },
     "metadata": {
      "needs_background": "light"
     },
     "output_type": "display_data"
    }
   ],
   "source": [
    "p=plot(fx, (x, -2, 2))"
   ]
  },
  {
   "cell_type": "code",
   "execution_count": 21,
   "metadata": {},
   "outputs": [
    {
     "name": "stdout",
     "output_type": "stream",
     "text": [
      "Вершина: -3/8 + (-1/2 - sqrt(3)*I/2)*(19/1536 + sqrt(108895)*I/3456)**(1/3) + 121/(576*(-1/2 - sqrt(3)*I/2)*(19/1536 + sqrt(108895)*I/3456)**(1/3))\n"
     ]
    }
   ],
   "source": [
    "print(f'Вершина: {solve(diff(fx))[0]}')"
   ]
  },
  {
   "cell_type": "code",
   "execution_count": 22,
   "metadata": {},
   "outputs": [
    {
     "name": "stdout",
     "output_type": "stream",
     "text": [
      "Функция больше нуля на промежутке: False\n"
     ]
    }
   ],
   "source": [
    "print(f'Функция больше нуля на промежутке: {solve(fx>0)}')"
   ]
  },
  {
   "cell_type": "code",
   "execution_count": 23,
   "metadata": {},
   "outputs": [
    {
     "name": "stdout",
     "output_type": "stream",
     "text": [
      "Функция меньше нуля на промежутке: (-oo < x) & (x < oo)\n"
     ]
    }
   ],
   "source": [
    "print(f'Функция меньше нуля на промежутке: {solve(fx<0)}')"
   ]
  },
  {
   "cell_type": "code",
   "execution_count": 24,
   "metadata": {},
   "outputs": [
    {
     "name": "stdout",
     "output_type": "stream",
     "text": [
      "      longitude  latitude  housing_median_age  total_rooms  total_bedrooms  \\\n",
      "0       -122.05     37.37                27.0       3885.0           661.0   \n",
      "1       -118.30     34.26                43.0       1510.0           310.0   \n",
      "2       -117.81     33.78                27.0       3589.0           507.0   \n",
      "3       -118.36     33.82                28.0         67.0            15.0   \n",
      "4       -119.67     36.33                19.0       1241.0           244.0   \n",
      "...         ...       ...                 ...          ...             ...   \n",
      "2995    -119.86     34.42                23.0       1450.0           642.0   \n",
      "2996    -118.14     34.06                27.0       5257.0          1082.0   \n",
      "2997    -119.70     36.30                10.0        956.0           201.0   \n",
      "2998    -117.12     34.10                40.0         96.0            14.0   \n",
      "2999    -119.63     34.42                42.0       1765.0           263.0   \n",
      "\n",
      "      population  households  median_income  median_house_value  \n",
      "0         1537.0       606.0         6.6085            344700.0  \n",
      "1          809.0       277.0         3.5990            176500.0  \n",
      "2         1484.0       495.0         5.7934            270500.0  \n",
      "3           49.0        11.0         6.1359            330000.0  \n",
      "4          850.0       237.0         2.9375             81700.0  \n",
      "...          ...         ...            ...                 ...  \n",
      "2995      1258.0       607.0         1.1790            225000.0  \n",
      "2996      3496.0      1036.0         3.3906            237200.0  \n",
      "2997       693.0       220.0         2.2895             62000.0  \n",
      "2998        46.0        14.0         3.2708            162500.0  \n",
      "2999       753.0       260.0         8.5608            500001.0  \n",
      "\n",
      "[3000 rows x 9 columns]\n"
     ]
    }
   ],
   "source": [
    "import pandas as pd\n",
    "df=pd.read_csv('D:\\Слава\\Учеба Python_GeekBrains\\Знакомство с Python\\Sem_11\\california_housing_test.csv')\n",
    "print(df)"
   ]
  },
  {
   "cell_type": "code",
   "execution_count": 29,
   "metadata": {},
   "outputs": [
    {
     "data": {
      "text/plain": [
       "3       330000.0\n",
       "15      153100.0\n",
       "16      181300.0\n",
       "34      183800.0\n",
       "51       47500.0\n",
       "          ...   \n",
       "2929    179200.0\n",
       "2947    140600.0\n",
       "2960    500001.0\n",
       "2992    500001.0\n",
       "2998    162500.0\n",
       "Name: median_house_value, Length: 305, dtype: float64"
      ]
     },
     "execution_count": 29,
     "metadata": {},
     "output_type": "execute_result"
    }
   ],
   "source": [
    "df[df['population'] <= 500]['median_house_value']"
   ]
  },
  {
   "cell_type": "code",
   "execution_count": 26,
   "metadata": {},
   "outputs": [
    {
     "data": {
      "text/plain": [
       "5.0"
      ]
     },
     "execution_count": 26,
     "metadata": {},
     "output_type": "execute_result"
    }
   ],
   "source": [
    "df['population'].min()"
   ]
  },
  {
   "cell_type": "code",
   "execution_count": 27,
   "metadata": {},
   "outputs": [
    {
     "data": {
      "text/plain": [
       "3.0"
      ]
     },
     "execution_count": 27,
     "metadata": {},
     "output_type": "execute_result"
    }
   ],
   "source": [
    "df[df['population'] == 5.0]['households'].max()"
   ]
  },
  {
   "cell_type": "code",
   "execution_count": null,
   "metadata": {},
   "outputs": [],
   "source": []
  }
 ],
 "metadata": {
  "kernelspec": {
   "display_name": "Python 3",
   "language": "python",
   "name": "python3"
  },
  "language_info": {
   "codemirror_mode": {
    "name": "ipython",
    "version": 3
   },
   "file_extension": ".py",
   "mimetype": "text/x-python",
   "name": "python",
   "nbconvert_exporter": "python",
   "pygments_lexer": "ipython3",
   "version": "3.8.3"
  }
 },
 "nbformat": 4,
 "nbformat_minor": 4
}
